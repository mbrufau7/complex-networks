{
 "cells": [
  {
   "cell_type": "markdown",
   "metadata": {},
   "source": [
    "# 1. Read and inspect"
   ]
  },
  {
   "cell_type": "code",
   "execution_count": 1,
   "metadata": {},
   "outputs": [
    {
     "data": {
      "text/html": [
       "<div>\n",
       "<style>\n",
       "    .dataframe thead tr:only-child th {\n",
       "        text-align: right;\n",
       "    }\n",
       "\n",
       "    .dataframe thead th {\n",
       "        text-align: left;\n",
       "    }\n",
       "\n",
       "    .dataframe tbody tr th {\n",
       "        vertical-align: top;\n",
       "    }\n",
       "</style>\n",
       "<table border=\"1\" class=\"dataframe\">\n",
       "  <thead>\n",
       "    <tr style=\"text-align: right;\">\n",
       "      <th></th>\n",
       "      <th>from</th>\n",
       "      <th>to</th>\n",
       "      <th>timestamp</th>\n",
       "    </tr>\n",
       "  </thead>\n",
       "  <tbody>\n",
       "    <tr>\n",
       "      <th>0</th>\n",
       "      <td>419</td>\n",
       "      <td>465</td>\n",
       "      <td>1463507482</td>\n",
       "    </tr>\n",
       "    <tr>\n",
       "      <th>1</th>\n",
       "      <td>869</td>\n",
       "      <td>453</td>\n",
       "      <td>1462337903</td>\n",
       "    </tr>\n",
       "    <tr>\n",
       "      <th>2</th>\n",
       "      <td>943</td>\n",
       "      <td>1151</td>\n",
       "      <td>1463167636</td>\n",
       "    </tr>\n",
       "    <tr>\n",
       "      <th>3</th>\n",
       "      <td>943</td>\n",
       "      <td>217</td>\n",
       "      <td>1463167636</td>\n",
       "    </tr>\n",
       "    <tr>\n",
       "      <th>4</th>\n",
       "      <td>943</td>\n",
       "      <td>841</td>\n",
       "      <td>1463167636</td>\n",
       "    </tr>\n",
       "  </tbody>\n",
       "</table>\n",
       "</div>"
      ],
      "text/plain": [
       "   from    to   timestamp\n",
       "0   419   465  1463507482\n",
       "1   869   453  1462337903\n",
       "2   943  1151  1463167636\n",
       "3   943   217  1463167636\n",
       "4   943   841  1463167636"
      ]
     },
     "execution_count": 1,
     "metadata": {},
     "output_type": "execute_result"
    }
   ],
   "source": [
    "import pandas as pd\n",
    "import numpy as np\n",
    "\n",
    "data = pd.DataFrame.from_csv('./dnc-temporalGraph/out.dnc-temporalGraph', sep = '\\t', header = 0, index_col=None)\n",
    "# % 28236 1574 1574\n",
    "data = data.drop('weight', 1)\n",
    "data.head()"
   ]
  },
  {
   "cell_type": "markdown",
   "metadata": {},
   "source": [
    "# 2. Matrices"
   ]
  },
  {
   "cell_type": "markdown",
   "metadata": {},
   "source": [
    "## 2.1. Adjacency matrix"
   ]
  },
  {
   "cell_type": "code",
   "execution_count": 2,
   "metadata": {
    "collapsed": true
   },
   "outputs": [],
   "source": [
    "n = np.max(data['to'])\n",
    "ad_mat = np.zeros((n,n))\n",
    "A = np.zeros((n,n))\n",
    "for index, row in data.iterrows():\n",
    "    A[row['from']-1, row['to']-1] = ad_mat[row['from']-1, row['to']-1] + 1\n",
    "    ad_mat[row['from']-1, row['to']-1] = 1"
   ]
  },
  {
   "cell_type": "code",
   "execution_count": 3,
   "metadata": {},
   "outputs": [
    {
     "data": {
      "image/png": "[encoded data removed]",
      "text/plain": [
       "<matplotlib.figure.Figure at 0x225aa8f1cc0>"
      ]
     },
     "metadata": {},
     "output_type": "display_data"
    }
   ],
   "source": [
    "import matplotlib.pyplot as plt\n",
    "#%matplotlib inline\n",
    "plt.imshow(ad_mat);\n",
    "plt.colorbar()\n",
    "plt.show()"
   ]
  },
  {
   "cell_type": "markdown",
   "metadata": {},
   "source": [
    "Self directed nodes"
   ]
  },
  {
   "cell_type": "code",
   "execution_count": 4,
   "metadata": {},
   "outputs": [
    {
     "data": {
      "text/plain": [
       "81.0"
      ]
     },
     "execution_count": 4,
     "metadata": {},
     "output_type": "execute_result"
    }
   ],
   "source": [
    "np.sum(np.diag(ad_mat))"
   ]
  },
  {
   "cell_type": "markdown",
   "metadata": {},
   "source": [
    "We discard them."
   ]
  },
  {
   "cell_type": "code",
   "execution_count": 5,
   "metadata": {
    "collapsed": true
   },
   "outputs": [],
   "source": [
    "np.fill_diagonal(ad_mat,0)\n",
    "np.fill_diagonal(A,0)"
   ]
  },
  {
   "cell_type": "markdown",
   "metadata": {},
   "source": [
    "## 2.2. Laplacian matrix"
   ]
  },
  {
   "cell_type": "code",
   "execution_count": 7,
   "metadata": {},
   "outputs": [
    {
     "data": {
      "image/png": "[encoded data removed]",
      "text/plain": [
       "<matplotlib.figure.Figure at 0x225aa8f15f8>"
      ]
     },
     "metadata": {},
     "output_type": "display_data"
    }
   ],
   "source": [
    "L = np.zeros((n,n))\n",
    "\n",
    "deg_vec = np.dot(A,np.ones(n))\n",
    "\n",
    "L = np.diag(deg_vec) - A\n",
    "\n",
    "plt.imshow(np.abs(L) > 0);\n",
    "plt.colorbar()\n",
    "plt.show()"
   ]
  },
  {
   "cell_type": "markdown",
   "metadata": {},
   "source": [
    "## 2.3 Eigendecomposition of the Laplacian"
   ]
  },
  {
   "cell_type": "code",
   "execution_count": 9,
   "metadata": {
    "collapsed": true
   },
   "outputs": [],
   "source": [
    "#w,v = np.linalg.eig(ad_mat_weight)\n",
    "w_lap, v_lap = np.linalg.eig(L)"
   ]
  },
  {
   "cell_type": "code",
   "execution_count": 10,
   "metadata": {},
   "outputs": [
    {
     "name": "stdout",
     "output_type": "stream",
     "text": [
      "[ 2.+0.j  2.+0.j  1.+0.j ...,  0.+0.j  0.+0.j  0.+0.j]\n",
      "[[  0.00000000e+00+0.j   0.00000000e+00+0.j   0.00000000e+00+0.j ...,\n",
      "    3.68694448e-06+0.j   1.01089974e-06+0.j   7.40863025e-03+0.j]\n",
      " [  0.00000000e+00+0.j   0.00000000e+00+0.j   0.00000000e+00+0.j ...,\n",
      "    6.46895294e-05+0.j   8.65378230e-06+0.j   6.76238494e-06+0.j]\n",
      " [  0.00000000e+00+0.j   0.00000000e+00+0.j   0.00000000e+00+0.j ...,\n",
      "    0.00000000e+00+0.j   0.00000000e+00+0.j   0.00000000e+00+0.j]\n",
      " ..., \n",
      " [  0.00000000e+00+0.j   0.00000000e+00+0.j   0.00000000e+00+0.j ...,\n",
      "    3.74627549e-05+0.j   8.52298714e-06+0.j   8.68278452e-06+0.j]\n",
      " [  0.00000000e+00+0.j   0.00000000e+00+0.j   0.00000000e+00+0.j ...,\n",
      "    3.21189943e-05+0.j   2.62827973e-05+0.j   8.66149299e-06+0.j]\n",
      " [  0.00000000e+00+0.j   0.00000000e+00+0.j   0.00000000e+00+0.j ...,\n",
      "    0.00000000e+00+0.j   0.00000000e+00+0.j   9.99557643e-01+0.j]]\n",
      "There are  963  connected components\n",
      "(512.09243975+0j)\n"
     ]
    }
   ],
   "source": [
    "print(w_lap)\n",
    "print(v_lap)\n",
    "print('There are ', np.sum(w_lap==0), ' connected components')\n",
    "print(np.max(w_lap))"
   ]
  },
  {
   "cell_type": "markdown",
   "metadata": {},
   "source": [
    "# 3 Local Characterizations"
   ]
  },
  {
   "cell_type": "markdown",
   "metadata": {},
   "source": [
    "## 3.1 Degree (in and out)"
   ]
  },
  {
   "cell_type": "code",
   "execution_count": 11,
   "metadata": {},
   "outputs": [
    {
     "name": "stdout",
     "output_type": "stream",
     "text": [
      "Out-degree [ 29.   2.   1. ...,  37.   2.   1.]\n",
      "In-degree [ 135.    1.    0. ...,   35.    2.    0.]\n",
      "Out-degree sum 8679.0\n",
      "In-degree sum 8679.0\n"
     ]
    }
   ],
   "source": [
    "#Microscale\n",
    "Degree_out = np.zeros(n)\n",
    "Degree_in = np.zeros(n)\n",
    "for i in range(0,n):\n",
    "    Degree_in[i] = np.sum(A[i,:]) \n",
    "    Degree_out[i] = np.sum(A[:,i]) \n",
    "\n",
    "print('Out-degree', Degree_out)\n",
    "print('In-degree', Degree_in)\n",
    "print('Out-degree sum', np.sum(Degree_out))\n",
    "print('In-degree sum',np.sum(Degree_in))"
   ]
  },
  {
   "cell_type": "markdown",
   "metadata": {},
   "source": [
    "## 3.2 Centrality"
   ]
  },
  {
   "cell_type": "code",
   "execution_count": 12,
   "metadata": {
    "collapsed": true
   },
   "outputs": [],
   "source": [
    "import networkx as NX"
   ]
  },
  {
   "cell_type": "code",
   "execution_count": 26,
   "metadata": {},
   "outputs": [
    {
     "data": {
      "text/plain": [
       "True"
      ]
     },
     "execution_count": 26,
     "metadata": {},
     "output_type": "execute_result"
    }
   ],
   "source": [
    "G = NX.from_numpy_matrix(A,create_using=NX.MultiDiGraph())\n",
    "G.is_directed()"
   ]
  },
  {
   "cell_type": "markdown",
   "metadata": {},
   "source": [
    "### 3.2.1 Degree Centrality"
   ]
  },
  {
   "cell_type": "code",
   "execution_count": 43,
   "metadata": {},
   "outputs": [
    {
     "data": {
      "image/png": "[encoded data removed]",
      "text/plain": [
       "<matplotlib.figure.Figure at 0x225c3cc4b00>"
      ]
     },
     "metadata": {},
     "output_type": "display_data"
    }
   ],
   "source": [
    "in_deg_cen = NX.in_degree_centrality(G)\n",
    "out_deg_cen = NX.out_degree_centrality(G)\n",
    "\n",
    "lists_in = sorted(in_deg_cen.items()) # sorted by key, return a list of tuples\n",
    "lists_out = sorted(out_deg_cen.items()) # sorted by key, return a list of tuples\n",
    "\n",
    "x_in, y_in = zip(*lists_in) # unpack a list of pairs into two tuples\n",
    "x_out, y_out = zip(*lists_out)\n",
    "in_, = plt.plot(x_in, y_in, 'red')\n",
    "out_, = plt.plot(x_out, y_out, 'blue') \n",
    "plt.legend([in_, out_],['In degree centrality', 'Out degree centrality'])\n",
    "\n",
    "plt.show()"
   ]
  },
  {
   "cell_type": "markdown",
   "metadata": {},
   "source": [
    "### 3.2.2 Closeness Centrality"
   ]
  },
  {
   "cell_type": "code",
   "execution_count": 46,
   "metadata": {},
   "outputs": [
    {
     "data": {
      "image/png": "[encoded data removed]",
      "text/plain": [
       "<matplotlib.figure.Figure at 0x225c55b46a0>"
      ]
     },
     "metadata": {},
     "output_type": "display_data"
    }
   ],
   "source": [
    "in_deg_cen = NX.closeness_centrality(G)\n",
    "\n",
    "lists_in = sorted(in_deg_cen.items()) # sorted by key, return a list of tuples\n",
    "\n",
    "x_in, y_in = zip(*lists_in) # unpack a list of pairs into two tuples\n",
    "in_, = plt.plot(x_in, y_in)\n",
    "\n",
    "plt.show()"
   ]
  },
  {
   "cell_type": "code",
   "execution_count": null,
   "metadata": {
    "collapsed": true
   },
   "outputs": [],
   "source": []
  },
  {
   "cell_type": "markdown",
   "metadata": {},
   "source": [
    "### 3.2.3 Betweenness Centrality"
   ]
  },
  {
   "cell_type": "markdown",
   "metadata": {},
   "source": [
    "## 3.2 Closeness"
   ]
  },
  {
   "cell_type": "code",
   "execution_count": 30,
   "metadata": {
    "collapsed": true
   },
   "outputs": [],
   "source": []
  },
  {
   "cell_type": "code",
   "execution_count": null,
   "metadata": {
    "collapsed": true
   },
   "outputs": [],
   "source": []
  }
 ],
 "metadata": {
  "kernelspec": {
   "display_name": "Python 3",
   "language": "python",
   "name": "python3"
  },
  "language_info": {
   "codemirror_mode": {
    "name": "ipython",
    "version": 3
   },
   "file_extension": ".py",
   "mimetype": "text/x-python",
   "name": "python",
   "nbconvert_exporter": "python",
   "pygments_lexer": "ipython3",
   "version": "3.6.1"
  }
 },
 "nbformat": 4,
 "nbformat_minor": 2
}
